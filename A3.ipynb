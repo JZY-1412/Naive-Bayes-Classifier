{
 "cells": [
  {
   "cell_type": "markdown",
   "metadata": {},
   "source": [
    "# Assignment 3"
   ]
  },
  {
   "cell_type": "markdown",
   "metadata": {},
   "source": [
    "## Report"
   ]
  },
  {
   "cell_type": "markdown",
   "metadata": {},
   "source": []
  },
  {
   "cell_type": "markdown",
   "metadata": {},
   "source": [
    "## Code"
   ]
  },
  {
   "cell_type": "code",
   "execution_count": 1,
   "metadata": {},
   "outputs": [],
   "source": [
    "import numpy as np"
   ]
  },
  {
   "cell_type": "markdown",
   "metadata": {},
   "source": []
  },
  {
   "cell_type": "code",
   "execution_count": 2,
   "metadata": {},
   "outputs": [],
   "source": [
    "def train_test_split(x, y, test_size=0.2):\n",
    "    n_test = int(test_size * len(x))\n",
    "    x = np.array(x)\n",
    "    y = np.array(y)\n",
    "    rng = np.random.default_rng()\n",
    "    perm = rng.permutation(len(x))\n",
    "    test = perm[:n_test]\n",
    "    train = perm[n_test:]\n",
    "    return x[train], x[test], y[train], y[test]"
   ]
  },
  {
   "cell_type": "code",
   "execution_count": 3,
   "metadata": {},
   "outputs": [],
   "source": [
    "def cv_split(x, k: int = 5):\n",
    "    \"\"\"k-fold cross-validation.\"\"\"\n",
    "    rng = np.random.default_rng()\n",
    "    perm = rng.permutation(len(x))\n",
    "    for split in np.split(perm, k):\n",
    "        rest = perm[~np.isin(perm, split, assume_unique=True)]\n",
    "        yield rest, split"
   ]
  },
  {
   "cell_type": "markdown",
   "metadata": {},
   "source": []
  },
  {
   "cell_type": "markdown",
   "metadata": {},
   "source": [
    "### Basic Naive Bayes Classifier"
   ]
  },
  {
   "cell_type": "code",
   "execution_count": 4,
   "metadata": {},
   "outputs": [],
   "source": [
    "class NaiveBayesClassifier:\n",
    "\n",
    "    def __init__(self):\n",
    "        \"\"\"\n",
    "        Unique class is stored as self.unique_class.\n",
    "        Total number of classes is stored as self.total_classes_number.\n",
    "        Total number of each class is stored in self.class_number_dict.\n",
    "        Total number of unique words is stored as self.unique_word_number.\n",
    "        Total number of a word in a class is stored in self.class_word_number_dict.\n",
    "        Total number of words in a class is stored in self.class_total_words_dict.\n",
    "        \"\"\"\n",
    "        self.unique_classes = []\n",
    "        self.total_classes_number = 0\n",
    "        self.class_number_dict = {}\n",
    "        self.unique_word_number = 0\n",
    "        self.class_word_number_dict = {}\n",
    "        self.class_total_words_dict = {}\n",
    "\n",
    "    def fit(self, abstracts, classes):\n",
    "        classes = np.array(classes)\n",
    "        abstracts = np.array(abstracts)\n",
    "        # unique class\n",
    "        self.unique_classes = sorted(set(classes))\n",
    "\n",
    "        # total number of classes\n",
    "        self.total_classes_number = len(classes)\n",
    "\n",
    "        # total number of each class\n",
    "        c, counts = np.unique(classes, return_counts=True)\n",
    "        self.class_number_dict = dict(zip(c, counts))\n",
    "\n",
    "        # total number of unique words\n",
    "        all_text = \"\"\n",
    "        for text in abstracts:\n",
    "            all_text = all_text + text + \" \"\n",
    "        all_text = all_text.split()\n",
    "        unique_word = set(all_text)\n",
    "        self.unique_word_number = len(unique_word)\n",
    "\n",
    "        # total number of a word in a class\n",
    "        self.class_word_number_dict = {}\n",
    "        class_text_dict = {}\n",
    "        for c in self.unique_classes:\n",
    "            class_text_dict[c] = \"\"\n",
    "        for i in range(len(abstracts)):\n",
    "            c = classes[i]\n",
    "            text = abstracts[i]\n",
    "            class_text_dict[c] = class_text_dict[c] + text + \" \"\n",
    "        for c in class_text_dict:\n",
    "            text = np.array(class_text_dict[c].split())\n",
    "            word, counts = np.unique(text, return_counts=True)\n",
    "            self.class_word_number_dict[c] = dict(zip(word, counts))\n",
    "\n",
    "        # total number of words in a class\n",
    "        self.class_total_words_dict = {}\n",
    "        for c in class_text_dict:\n",
    "            text = class_text_dict[c].split()\n",
    "            self.class_total_words_dict[c] = len(text)\n",
    "\n",
    "    def predict(self, abstracts, ids):\n",
    "        result = []\n",
    "        for i in range(len(ids)):\n",
    "            pred_id = ids[i]\n",
    "            pred_abs = abstracts[i].split()\n",
    "            id_result_prob = []\n",
    "            for c in self.unique_classes:\n",
    "                prob_c = np.log(self.class_number_dict[c] / self.total_classes_number)\n",
    "                prob_x = 0\n",
    "                word_number_dict = self.class_word_number_dict[c]\n",
    "                total_words_number = self.class_total_words_dict[c]\n",
    "                for word in pred_abs:\n",
    "                    if word in word_number_dict:\n",
    "                        word_number = word_number_dict[word]\n",
    "                    else:\n",
    "                        word_number = 0\n",
    "                    prob_word = np.log((word_number + 1) / (total_words_number + self.unique_word_number))\n",
    "                    prob_x = prob_x + prob_word\n",
    "                prob = prob_c + prob_x\n",
    "                id_result_prob.append([c, prob])\n",
    "\n",
    "            id_result_prob = sorted(id_result_prob, key=lambda x: x[1])\n",
    "            result.append((pred_id, id_result_prob[-1][0]))\n",
    "\n",
    "        return result\n"
   ]
  },
  {
   "cell_type": "markdown",
   "metadata": {},
   "source": [
    "### Navie Bayes Classifier with Extension"
   ]
  },
  {
   "cell_type": "markdown",
   "metadata": {},
   "source": [
    "#### TF-IDF"
   ]
  },
  {
   "cell_type": "code",
   "execution_count": 5,
   "metadata": {},
   "outputs": [],
   "source": [
    "class TFIDFNaiveBayesClassifier:\n",
    "\n",
    "    def __init__(self):\n",
    "        self.unique_classes = []\n",
    "        self.total_classes_number = 0\n",
    "        self.class_number_dict = {}\n",
    "        self.unique_word_number = 0\n",
    "        self.class_word_number_dict = {}\n",
    "        self.class_total_words_dict = {}\n",
    "        \"\"\"\n",
    "        Extension\n",
    "        \"\"\"\n",
    "        # TF-IDF\n",
    "        self.word_idf = {}\n",
    "\n",
    "    def fit(self, abstracts, classes):\n",
    "        classes = np.array(classes)\n",
    "        abstracts = np.array(abstracts)\n",
    "\n",
    "        self.unique_classes = sorted(set(classes))\n",
    "\n",
    "        self.total_classes_number = len(classes)\n",
    "\n",
    "        c, counts = np.unique(classes, return_counts=True)\n",
    "        self.class_number_dict = dict(zip(c, counts))\n",
    "\n",
    "        all_text = \"\"\n",
    "        for text in abstracts:\n",
    "            all_text = all_text + text + \" \"\n",
    "        all_text = all_text.split()\n",
    "        unique_word = set(all_text)\n",
    "        self.unique_word_number = len(unique_word)\n",
    "\n",
    "        self.class_word_number_dict = {}\n",
    "        class_text_dict = {}\n",
    "        for c in self.unique_classes:\n",
    "            class_text_dict[c] = \"\"\n",
    "        for i in range(len(abstracts)):\n",
    "            c = classes[i]\n",
    "            text = abstracts[i]\n",
    "            class_text_dict[c] = class_text_dict[c] + text + \" \"\n",
    "        for c in class_text_dict:\n",
    "            text = np.array(class_text_dict[c].split())\n",
    "            word, counts = np.unique(text, return_counts=True)\n",
    "            self.class_word_number_dict[c] = dict(zip(word, counts))\n",
    "\n",
    "        # total number of words in a class\n",
    "        self.class_total_words_dict = {}\n",
    "        for c in class_text_dict:\n",
    "            text = class_text_dict[c].split()\n",
    "            self.class_total_words_dict[c] = len(text)\n",
    "\n",
    "        \"\"\"\n",
    "        Extension\n",
    "        \"\"\"\n",
    "        # TF-IDF\n",
    "        self.word_idf = [0] * len(unique_word)\n",
    "        self.word_idf = dict(zip(unique_word, self.word_idf))\n",
    "        for i in range(len(abstracts)):\n",
    "            abstract = abstracts[i].split()\n",
    "            abstract = set(abstract)\n",
    "            for word in abstract:\n",
    "                self.word_idf[word] += 1\n",
    "        for word in self.word_idf:\n",
    "            self.word_idf[word] = np.log((self.total_classes_number / self.word_idf[word]))\n",
    "\n",
    "\n",
    "    def predict(self, abstracts, ids):\n",
    "        result = []\n",
    "        for i in range(len(ids)):\n",
    "            pred_id = ids[i]\n",
    "            pred_abs = abstracts[i].split()\n",
    "            id_result_prob = []\n",
    "            for c in self.unique_classes:\n",
    "                prob_c = np.log(self.class_number_dict[c] / self.total_classes_number)\n",
    "                prob_x = 0\n",
    "                word_number_dict = self.class_word_number_dict[c]\n",
    "                total_words_number = self.class_total_words_dict[c]\n",
    "                for word in pred_abs:\n",
    "                    if word in word_number_dict:\n",
    "                        word_number = word_number_dict[word]\n",
    "                    else:\n",
    "                        word_number = 0\n",
    "                    if word in self.word_idf:\n",
    "                        prob_word = np.log(((word_number + 1) * self.word_idf[word]) / ((total_words_number * self.word_idf[word]) + self.unique_word_number))\n",
    "                    else:\n",
    "                        prob_word = np.log((word_number + 1) / (total_words_number + self.unique_word_number))\n",
    "                    prob_x = prob_x + prob_word\n",
    "                prob = prob_c + prob_x\n",
    "                id_result_prob.append([c, prob])\n",
    "\n",
    "            id_result_prob = sorted(id_result_prob, key=lambda x: x[1])\n",
    "            result.append((pred_id, id_result_prob[-1][0]))\n",
    "\n",
    "        return result"
   ]
  },
  {
   "cell_type": "markdown",
   "metadata": {},
   "source": [
    "#### Complement Naive Bayes"
   ]
  },
  {
   "cell_type": "code",
   "execution_count": 27,
   "metadata": {},
   "outputs": [],
   "source": [
    "class ComplementNaiveBayesClassifier:\n",
    "\n",
    "    def __init__(self):\n",
    "        self.unique_classes = []\n",
    "        self.total_classes_number = 0\n",
    "        self.class_number_dict = {}\n",
    "        self.unique_word_number = 0\n",
    "        self.class_word_number_dict = {}\n",
    "        self.class_total_words_dict = {}\n",
    "\n",
    "    def fit(self, abstracts, classes):\n",
    "        classes = np.array(classes)\n",
    "        abstracts = np.array(abstracts)\n",
    "        # unique class\n",
    "        self.unique_classes = sorted(set(classes))\n",
    "\n",
    "        # total number of classes\n",
    "        self.total_classes_number = len(classes)\n",
    "\n",
    "        # total number of each class\n",
    "        c, counts = np.unique(classes, return_counts=True)\n",
    "        self.class_number_dict = dict(zip(c, counts))\n",
    "\n",
    "        # total number of unique words\n",
    "        all_text = \"\"\n",
    "        for text in abstracts:\n",
    "            all_text = all_text + text + \" \"\n",
    "        all_text = all_text.split()\n",
    "        unique_word = set(all_text)\n",
    "        self.unique_word_number = len(unique_word)\n",
    "\n",
    "        # total number of a word in a class\n",
    "        self.class_word_number_dict = {}\n",
    "        class_text_dict = {}\n",
    "        for c in self.unique_classes:\n",
    "            class_text_dict[c] = \"\"\n",
    "        for i in range(len(abstracts)):\n",
    "            c = classes[i]\n",
    "            text = abstracts[i]\n",
    "            class_text_dict[c] = class_text_dict[c] + text + \" \"\n",
    "        for c in class_text_dict:\n",
    "            text = np.array(class_text_dict[c].split())\n",
    "            word, counts = np.unique(text, return_counts=True)\n",
    "            self.class_word_number_dict[c] = dict(zip(word, counts))\n",
    "\n",
    "        # total number of words in a class\n",
    "        self.class_total_words_dict = {}\n",
    "        for c in class_text_dict:\n",
    "            text = class_text_dict[c].split()\n",
    "            self.class_total_words_dict[c] = len(text)\n",
    "\n",
    "    def predict(self, abstracts, ids):\n",
    "        result = []\n",
    "        for i in range(len(ids)):\n",
    "            pred_id = ids[i]\n",
    "            pred_abs = abstracts[i].split()\n",
    "            id_result_prob = []\n",
    "            for c in self.unique_classes:\n",
    "                prob_c = np.log(self.class_number_dict[c] / self.total_classes_number)\n",
    "                prob_x = 0\n",
    "                \"\"\"\n",
    "                Extension\n",
    "                \"\"\"\n",
    "                not_cs = []\n",
    "                word_number_in_ncs = []\n",
    "                total_words_number = 0\n",
    "                \n",
    "                for nc in self.unique_classes:\n",
    "                    if nc != c:\n",
    "                        not_cs.append(nc)\n",
    "                        word_number_in_ncs.append(self.class_word_number_dict[nc])\n",
    "                        total_words_number += self.class_total_words_dict[nc]\n",
    "                        \n",
    "                for word in pred_abs:\n",
    "                    word_number = 0\n",
    "                    for word_number_dict in word_number_in_ncs:\n",
    "                        if word in word_number_dict:\n",
    "                            word_number += word_number_dict[word]\n",
    "                    prob_word = np.log((word_number + 1) / (total_words_number + self.unique_word_number))\n",
    "                    prob_x = prob_x + prob_word\n",
    "                    \n",
    "                prob = prob_c - prob_x\n",
    "                id_result_prob.append([c, prob])\n",
    "\n",
    "            id_result_prob = sorted(id_result_prob, key=lambda x: x[1])\n",
    "            result.append((pred_id, id_result_prob[-1][0]))\n",
    "\n",
    "        return result"
   ]
  },
  {
   "cell_type": "markdown",
   "metadata": {},
   "source": [
    "### Test"
   ]
  },
  {
   "cell_type": "code",
   "execution_count": 35,
   "metadata": {},
   "outputs": [],
   "source": [
    "classes = []\n",
    "train_abstracts = []\n",
    "training_data = np.genfromtxt(\"trg.csv\", delimiter=\",\",  skip_header=1, dtype=str, usecols=(1, 2))\n",
    "classes = training_data[:, 0]\n",
    "train_abstracts = training_data[:, 1]"
   ]
  },
  {
   "cell_type": "code",
   "execution_count": 36,
   "metadata": {},
   "outputs": [],
   "source": [
    "train_x, test_x, train_y, test_y = train_test_split(train_abstracts, classes)"
   ]
  },
  {
   "cell_type": "code",
   "execution_count": 37,
   "metadata": {},
   "outputs": [],
   "source": [
    "nbc =NaiveBayesClassifier()\n",
    "nbc.fit(train_x, train_y)\n",
    "result = nbc.predict(test_x, test_y)"
   ]
  },
  {
   "cell_type": "code",
   "execution_count": 38,
   "metadata": {},
   "outputs": [
    {
     "name": "stdout",
     "output_type": "stream",
     "text": [
      "Total incorrect: 48\n",
      "Total instance: 800\n",
      "Accuracy: 0.94\n"
     ]
    }
   ],
   "source": [
    "count = 0\n",
    "for r in result:\n",
    "    if r[0] != r[1]:\n",
    "        count += 1\n",
    "print(\"Total incorrect:\", count)\n",
    "print(\"Total instance:\", len(test_x))\n",
    "print(\"Accuracy:\", 1 - (count / len(test_x)))"
   ]
  },
  {
   "cell_type": "code",
   "execution_count": 39,
   "metadata": {},
   "outputs": [
    {
     "name": "stdout",
     "output_type": "stream",
     "text": [
      "Total incorrect: 32\n",
      "Total instance: 800\n",
      "Accuracy: 0.96\n"
     ]
    }
   ],
   "source": [
    "cnbc =ComplementNaiveBayesClassifier()\n",
    "cnbc.fit(train_x, train_y)\n",
    "result = cnbc.predict(test_x, test_y)\n",
    "count = 0\n",
    "for r in result:\n",
    "    if r[0] != r[1]:\n",
    "        count += 1\n",
    "print(\"Total incorrect:\", count)\n",
    "print(\"Total instance:\", len(test_x))\n",
    "print(\"Accuracy:\", 1 - (count / len(test_x)))"
   ]
  },
  {
   "cell_type": "code",
   "execution_count": 14,
   "metadata": {},
   "outputs": [
    {
     "name": "stdout",
     "output_type": "stream",
     "text": [
      "Basic: 0.94415\n",
      "TF-IDF: 0.94415\n"
     ]
    }
   ],
   "source": [
    "# nbc_scores = []\n",
    "# tfidf_nbc_scores = []\n",
    "# for i in range(50):\n",
    "#     train_x, test_x, train_y, test_y = train_test_split(train_abstracts, classes)\n",
    "    \n",
    "#     nbc =NaiveBayesClassifier()\n",
    "#     nbc.fit(train_x, train_y)\n",
    "#     nbc_result = nbc.predict(test_x, test_y)\n",
    "#     count = 0\n",
    "#     for r in nbc_result:\n",
    "#         if r[0] != r[1]:\n",
    "#             count += 1\n",
    "#     nbc_scores.append(1 - (count / len(test_x)))\n",
    "    \n",
    "#     tfidf_nbc = TFIDFNaiveBayesClassifier()\n",
    "#     tfidf_nbc.fit(train_x, train_y)\n",
    "#     tfidf_nbc_result = nbc.predict(test_x, test_y)\n",
    "#     count = 0\n",
    "#     for r in tfidf_nbc_result:\n",
    "#         if r[0] != r[1]:\n",
    "#             count += 1\n",
    "#     tfidf_nbc_scores.append(1 - (count / len(test_x)))\n",
    "\n",
    "# print(\"Basic:\", np.mean(nbc_scores))\n",
    "# print(\"TF-IDF:\", np.mean(tfidf_nbc_scores))"
   ]
  },
  {
   "cell_type": "markdown",
   "metadata": {},
   "source": [
    "### Final Result"
   ]
  },
  {
   "cell_type": "code",
   "execution_count": 53,
   "metadata": {},
   "outputs": [],
   "source": [
    "train_classes = []\n",
    "train_abstracts = []\n",
    "training_data = np.genfromtxt(\"trg.csv\", delimiter=\",\",  skip_header=1, dtype=str, usecols=(1, 2))\n",
    "train_classes = training_data[:, 0]\n",
    "train_abstracts = training_data[:, 1]\n",
    "\n",
    "ids = []\n",
    "abstracts = []\n",
    "data = np.genfromtxt(\"tst.csv\", delimiter=\",\",  skip_header=1, dtype=str, usecols=(0, 1))\n",
    "ids = data[:, 0]\n",
    "abstracts = data[:, 1]"
   ]
  },
  {
   "cell_type": "code",
   "execution_count": 54,
   "metadata": {},
   "outputs": [],
   "source": [
    "nbc = NaiveBayesClassifier()\n",
    "nbc.fit(train_abstracts, train_classes)\n",
    "result = nbc.predict(abstracts, ids)"
   ]
  },
  {
   "cell_type": "code",
   "execution_count": 55,
   "metadata": {},
   "outputs": [],
   "source": [
    "f = open(\"result1.csv\", \"a\")\n",
    "f.write(\"id,class\\n\")\n",
    "for r in result:\n",
    "    line = r[0] + \",\" + r[1] + \"\\n\"\n",
    "    f.write(line)\n",
    "f.close()"
   ]
  },
  {
   "cell_type": "code",
   "execution_count": 57,
   "metadata": {},
   "outputs": [],
   "source": [
    "train_classes = []\n",
    "train_abstracts = []\n",
    "training_data = np.genfromtxt(\"trg.csv\", delimiter=\",\",  skip_header=1, dtype=str, usecols=(1, 2))\n",
    "train_classes = training_data[:, 0]\n",
    "train_abstracts = training_data[:, 1]\n",
    "\n",
    "ids = []\n",
    "abstracts = []\n",
    "data = np.genfromtxt(\"tst.csv\", delimiter=\",\",  skip_header=1, dtype=str, usecols=(0, 1))\n",
    "ids = data[:, 0]\n",
    "abstracts = data[:, 1]\n",
    "\n",
    "cnbc = ComplementNaiveBayesClassifier()\n",
    "cnbc.fit(train_abstracts, train_classes)\n",
    "result = cnbc.predict(abstracts, ids)\n",
    "f = open(\"result2.csv\", \"a\")\n",
    "f.write(\"id,class\\n\")\n",
    "for r in result:\n",
    "    line = r[0] + \",\" + r[1] + \"\\n\"\n",
    "    f.write(line)\n",
    "f.close()"
   ]
  },
  {
   "cell_type": "code",
   "execution_count": null,
   "metadata": {},
   "outputs": [],
   "source": []
  }
 ],
 "metadata": {
  "kernelspec": {
   "display_name": "Python 3",
   "language": "python",
   "name": "python3"
  },
  "language_info": {
   "codemirror_mode": {
    "name": "ipython",
    "version": 3
   },
   "file_extension": ".py",
   "mimetype": "text/x-python",
   "name": "python",
   "nbconvert_exporter": "python",
   "pygments_lexer": "ipython3",
   "version": "3.8.5"
  }
 },
 "nbformat": 4,
 "nbformat_minor": 4
}
