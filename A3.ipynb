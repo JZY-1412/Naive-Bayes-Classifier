{
 "cells": [
  {
   "cell_type": "code",
   "execution_count": 1,
   "metadata": {},
   "outputs": [],
   "source": [
    "import csv\n",
    "import numpy as np"
   ]
  },
  {
   "cell_type": "code",
   "execution_count": 2,
   "metadata": {},
   "outputs": [],
   "source": [
    "def train_test_split(x, y, test_size=0.2):\n",
    "    n_test = int(test_size * len(x))\n",
    "    x = np.array(x)\n",
    "    y = np.array(y)\n",
    "    rng = np.random.default_rng()\n",
    "    perm = rng.permutation(len(x))\n",
    "    test = perm[:n_test]\n",
    "    train = perm[n_test:]\n",
    "    return x[train], x[test], y[train], y[test]"
   ]
  },
  {
   "cell_type": "code",
   "execution_count": 3,
   "metadata": {},
   "outputs": [],
   "source": [
    "def cv_split(x, k: int = 5):\n",
    "    \"\"\"k-fold cross-validation.\"\"\"\n",
    "    rng = np.random.default_rng()\n",
    "    perm = rng.permutation(len(x))\n",
    "    for split in np.split(perm, k):\n",
    "        rest = perm[~np.isin(perm, split, assume_unique=True)]\n",
    "        yield rest, split"
   ]
  },
  {
   "cell_type": "code",
   "execution_count": 4,
   "metadata": {},
   "outputs": [],
   "source": [
    "class naive_bayes_classifier:\n",
    "    def __init__(self):\n",
    "        \"\"\"\n",
    "        Total number of classes is stored as self.total_classes_number.\n",
    "        Total number of each class is stored in self.class_number_dict.\n",
    "        Total number of unique words is stored as self.unique_word_number.\n",
    "        Total number of a word in a class is stored in self.class_word_number_dict.\n",
    "        Total number of words in a class is stored in self.class_total_words_dict.\n",
    "        \"\"\"\n",
    "        self.total_classes_number = 0\n",
    "        self.class_number_dict = {}\n",
    "        self.unique_word_number = 0\n",
    "        self.class_word_number_dict = {}\n",
    "        self.class_total_words_dict = {}\n",
    "    \n",
    "    def fit(self, abstracts, classes):\n",
    "        classes = np.array(classes)\n",
    "        abstracts = np.array(abstracts)\n",
    "        \n",
    "        # total number of classes\n",
    "        self.total_classes_number = len(classes)\n",
    "\n",
    "        # total number of each class\n",
    "        c, counts = np.unique(classes, return_counts=True)\n",
    "        self.class_number_dict = dict(zip(c, counts))\n",
    "\n",
    "        # total number of unique words\n",
    "        all_text = \"\"\n",
    "        for text in abstracts:\n",
    "            all_text = all_text + text + \" \"\n",
    "        all_text = all_text.split()\n",
    "        unique_word = set(all_text)\n",
    "        self.unique_word_number = len(unique_word)\n",
    "\n",
    "        # total number of a word in a class\n",
    "        self.class_word_number_dict = {}\n",
    "        class_text_dict = {}\n",
    "        for c in unique_classes:\n",
    "            class_text_dict[c] = \"\"\n",
    "        for i in range(len(abstracts)):\n",
    "            c = classes[i]\n",
    "            text = abstracts[i]\n",
    "            class_text_dict[c] = class_text_dict[c] + text + \" \"\n",
    "        for c in class_text_dict:\n",
    "            text = np.array(class_text_dict[c].split())\n",
    "            word, counts = np.unique(text, return_counts=True)\n",
    "            self.class_word_number_dict[c] = dict(zip(word, counts))\n",
    "\n",
    "        # total number of words in a class\n",
    "        self.class_total_words_dict = {}\n",
    "        for c in class_text_dict:\n",
    "            text = class_text_dict[c].split()\n",
    "            self.class_total_words_dict[c] = len(text)    \n",
    "    \n",
    "    def predict(self, abstracts, ids):\n",
    "        result = []\n",
    "        for i in range(len(ids)):\n",
    "            pred_id = ids[i]\n",
    "            pred_abs = abstracts[i].split()\n",
    "            \n",
    "            id_result_prob = []\n",
    "            for c in unique_classes:\n",
    "                prob_c = self.class_number_dict[c] / self.total_classes_number\n",
    "                count_10 = 0\n",
    "                prob_x = 1\n",
    "                word_number_dict = self.class_word_number_dict[c]\n",
    "                total_words_number = self.class_total_words_dict[c]\n",
    "                for word in pred_abs:\n",
    "                    if word in word_number_dict:\n",
    "                        word_number = word_number_dict[word]\n",
    "                    else:\n",
    "                        word_number = 0\n",
    "                    prob_word = (word_number + 1) / (total_words_number + self.unique_word_number)\n",
    "                    prob_x = prob_x * prob_word\n",
    "                    while prob_x < 0.1:\n",
    "                        prob_x = prob_x * 10\n",
    "                        count_10 += 1 \n",
    "                prob = prob_c * prob_x\n",
    "                while prob < 0.1:\n",
    "                    prob = prob * 10\n",
    "                    count_10 += 1\n",
    "                id_result_prob.append([c, prob, count_10])\n",
    "                \n",
    "            id_result_prob = sorted(id_result_prob, key=lambda x: (-x[2], x[1]))\n",
    "            result.append((pred_id, id_result_prob[-1][0]))\n",
    "        \n",
    "        return result"
   ]
  },
  {
   "cell_type": "code",
   "execution_count": 5,
   "metadata": {},
   "outputs": [],
   "source": [
    "classes = []\n",
    "train_abstracts = []\n",
    "with open(\"trg.csv\") as fid:\n",
    "    reader = csv.reader(fid, delimiter=\",\", quotechar='\"')\n",
    "    # Skip header row\n",
    "    next(reader)\n",
    "    for row in reader:\n",
    "        classes.append(row[1])\n",
    "        train_abstracts.append(row[2])\n",
    "unique_classes = sorted(set(classes))\n",
    "class_to_id = {c: unique_classes.index(c) for c in unique_classes}\n",
    "train_y = np.array([class_to_id[c] for c in classes])"
   ]
  },
  {
   "cell_type": "code",
   "execution_count": 6,
   "metadata": {},
   "outputs": [],
   "source": [
    "train_x, test_x, train_y, test_y = train_test_split(train_abstracts, classes)"
   ]
  },
  {
   "cell_type": "code",
   "execution_count": 7,
   "metadata": {},
   "outputs": [],
   "source": [
    "nbc = naive_bayes_classifier()\n",
    "nbc.fit(train_x, train_y)\n",
    "result = nbc.predict(test_x, test_y)"
   ]
  },
  {
   "cell_type": "code",
   "execution_count": 8,
   "metadata": {},
   "outputs": [
    {
     "name": "stdout",
     "output_type": "stream",
     "text": [
      "Total incorrect: 50\n",
      "Total instance: 800\n",
      "Accuracy: 0.9375\n"
     ]
    }
   ],
   "source": [
    "count = 0\n",
    "for r in result:\n",
    "    if r[0] != r[1]:\n",
    "        count += 1\n",
    "print(\"Total incorrect:\", count)\n",
    "print(\"Total instance:\", len(test_x))\n",
    "print(\"Accuracy:\", 1 - (count / len(test_x)))"
   ]
  },
  {
   "cell_type": "code",
   "execution_count": null,
   "metadata": {},
   "outputs": [],
   "source": []
  },
  {
   "cell_type": "code",
   "execution_count": 10,
   "metadata": {},
   "outputs": [],
   "source": [
    "ids = []\n",
    "test_abstracts = []\n",
    "with open(\"tst.csv\") as fid:\n",
    "    reader = csv.reader(fid, delimiter=\",\", quotechar='\"')\n",
    "    # Skip header row\n",
    "    next(reader)\n",
    "    for row in reader:\n",
    "        ids.append(row[0])\n",
    "        test_abstracts.append(row[1])"
   ]
  },
  {
   "cell_type": "code",
   "execution_count": 11,
   "metadata": {},
   "outputs": [],
   "source": [
    "nbc = naive_bayes_classifier()\n",
    "nbc.fit(train_abstracts, classes)\n",
    "result = nbc.predict(test_abstracts, ids)"
   ]
  },
  {
   "cell_type": "code",
   "execution_count": 12,
   "metadata": {},
   "outputs": [],
   "source": [
    "f = open(\"result.csv\", \"a\")\n",
    "f.write(\"id,class\\n\")\n",
    "for r in result:\n",
    "    line = r[0] + \",\" + r[1] + \"\\n\"\n",
    "    f.write(line)\n",
    "f.close()"
   ]
  }
 ],
 "metadata": {
  "kernelspec": {
   "display_name": "Python 3",
   "language": "python",
   "name": "python3"
  },
  "language_info": {
   "codemirror_mode": {
    "name": "ipython",
    "version": 3
   },
   "file_extension": ".py",
   "mimetype": "text/x-python",
   "name": "python",
   "nbconvert_exporter": "python",
   "pygments_lexer": "ipython3",
   "version": "3.8.5"
  }
 },
 "nbformat": 4,
 "nbformat_minor": 4
}
